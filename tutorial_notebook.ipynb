{
 "cells": [
  {
   "cell_type": "markdown",
   "metadata": {},
   "source": [
    "# Tutorial notebook for the parametrized QNM framework\n",
    "\n",
    "For Schwarzschild, this code is based on the coefficients derived in Völkel, Franchini and Barausse, \n",
    "https://arxiv.org/abs/2202.08655\n",
    "\n",
    "For Kerr, this code is based on the formalism and coefficients derived in Cano, Capuano, Franchini, Maeunaut and Völkel, TBD\n",
    "\n",
    "Because the parametrization is different, please look up the definition of how deviations are defined in those references, e.g., the range of deviations $\\alpha_k$ differs."
   ]
  },
  {
   "cell_type": "markdown",
   "metadata": {},
   "source": [
    "#### Some general documentation\n",
    "\n",
    "\n",
    "$\\textbf{Schwarzschild}$: \n",
    "\n",
    "Currently including real or complex valued coefficients for $\\alpha_k$ with $k \\in [0,\\dots, 10]$.\n",
    "\n",
    "available QNMs\n",
    "* $\\ell \\in [0,1,2,3,4]$ for scalar and $\\ell \\in [2,3,4]$ for tensor.\n",
    "* $n \\in [0,1,2]$.\n",
    "\n",
    "available orders: \"linear\", \"quadratic\"\n",
    "\n",
    "available filed content: \"scalar\", \"tensor_axial\", \"tensor_polar\"\n",
    "\n",
    "$\\textbf{Kerr}$: \n",
    "\n",
    "Currently including real or complex valued coefficients for $\\alpha_k$ with $k \\in [-6,\\dots, 4]$. Note the index shift when specifying the parameter injection that always starts with the zero entry of an array.\n",
    "\n",
    "available QNMs\n",
    "* $\\ell \\in [2,3,4]$\n",
    "* $m \\in [-\\ell, \\dots, \\ell]$\n",
    "* $n \\in [0,1,2]$.\n",
    "\n",
    "available orders: \"linear\"\n",
    "\n",
    "quadratic coefficients for Teukolsky are currently only available for a subset of modes and only for diagonal ones.\n",
    "\n",
    "\n",
    "available filed content: \"tensor\"\n",
    "\n",
    "\n",
    "#### How to use the code:\n",
    "\n",
    "To compute QNMs one has to initialize the QNM class for a given field content and accuracy.\n",
    "\n",
    "QNM.initialize(field content, order)\n",
    "\n",
    "#### Notes:\n",
    "\n",
    "* N_beta = 11 is hard coded here AND in the extra functions\n",
    "* units in which M = 1/2"
   ]
  },
  {
   "cell_type": "code",
   "execution_count": 1,
   "metadata": {},
   "outputs": [],
   "source": [
    "import numpy as np\n",
    "import matplotlib\n",
    "import matplotlib.pyplot as plt\n",
    "import extra_functions as EF\n",
    "from QNM_class import QNM_class\n",
    "N_beta = 11"
   ]
  },
  {
   "cell_type": "markdown",
   "metadata": {},
   "source": [
    "### Initialize QNM class for Kerr"
   ]
  },
  {
   "cell_type": "code",
   "execution_count": 2,
   "metadata": {},
   "outputs": [
    {
     "name": "stdout",
     "output_type": "stream",
     "text": [
      "Initialized QNM class for computations with field = tensor and approximant = linear.\n",
      "CPU times: user 2.04 s, sys: 311 ms, total: 2.35 s\n",
      "Wall time: 2.06 s\n"
     ]
    }
   ],
   "source": [
    "%%time\n",
    "\"\"\"\n",
    "Initialize the QNM_class(). This will load the coefficients. \n",
    "For Kerr it will also build CubicSpline interpolations for the spin,\n",
    "from which all QNMs will be computed.\n",
    "\"\"\"\n",
    "field_content = \"tensor\"\n",
    "order         = \"linear\"\n",
    "QNM = QNM_class()\n",
    "QNM.initialize(field_content, order)"
   ]
  },
  {
   "cell_type": "markdown",
   "metadata": {},
   "source": [
    "####  Example 1: compute QNM and separation constant"
   ]
  },
  {
   "cell_type": "code",
   "execution_count": 3,
   "metadata": {
    "lines_to_next_cell": 2
   },
   "outputs": [
    {
     "name": "stdout",
     "output_type": "stream",
     "text": [
      "QNM =  [ 0.74734337 -0.17792463]\n",
      "separation constant B =  [8.00000000e+00 3.46944695e-18]\n"
     ]
    }
   ],
   "source": [
    "\"\"\"\n",
    "compute the l=2, m=2, n=0, a=0 \n",
    "QNM and separation constant B for GR injcetion X_GR\n",
    "\"\"\"\n",
    "X_GR           = np.zeros(N_beta, dtype=complex)\n",
    "l_, m_, n_, a_ = 2, 2, 0, 0\n",
    "print(\"QNM = \", QNM.qnm(l_, m_, n_, a_, X_GR))\n",
    "print(\"separation constant B = \", QNM.constant(l_, m_, n_, a_, X_GR))"
   ]
  },
  {
   "cell_type": "markdown",
   "metadata": {},
   "source": [
    "#### Example 2: compute QNM and separation constant for a non-GR case"
   ]
  },
  {
   "cell_type": "code",
   "execution_count": 4,
   "metadata": {},
   "outputs": [
    {
     "name": "stdout",
     "output_type": "stream",
     "text": [
      "QNM =  [ 0.74749132 -0.17159624]\n",
      "separation constant B =  [8.00000000e+00 6.21045571e-09]\n"
     ]
    }
   ],
   "source": [
    "\"\"\"\n",
    "introduce a non-zero GR coefficient for alpha = 0.1*(1+i)\n",
    "\"\"\"\n",
    "X_not_GR     = np.zeros(N_beta, dtype=complex)\n",
    "X_not_GR[2]  = 0.3*(1+1j)\n",
    "print(\"QNM = \", QNM.qnm(l_, m_, n_, a_, X_not_GR))\n",
    "print(\"separation constant B = \", QNM.constant(l_, m_, n_, a_, X_not_GR))"
   ]
  },
  {
   "cell_type": "markdown",
   "metadata": {},
   "source": [
    "#### Example 3: compute 220 mode for various spins"
   ]
  },
  {
   "cell_type": "code",
   "execution_count": 5,
   "metadata": {},
   "outputs": [
    {
     "name": "stdout",
     "output_type": "stream",
     "text": [
      "CPU times: user 8.01 ms, sys: 41 µs, total: 8.06 ms\n",
      "Wall time: 7.74 ms\n"
     ]
    }
   ],
   "source": [
    "%%time \n",
    "\n",
    "\"\"\"\n",
    "compute 220 mode for 10000 different values of the spin\n",
    "\"\"\"\n",
    "a_range          = np.linspace(0,0.45, 10000)\n",
    "qnm_range_GR     = QNM.qnm(l_, m_, n_, a_range, X_GR)\n",
    "qnm_range_not_GR = QNM.qnm(l_, m_, n_, a_range, X_not_GR)"
   ]
  },
  {
   "cell_type": "code",
   "execution_count": 6,
   "metadata": {
    "lines_to_next_cell": 0
   },
   "outputs": [
    {
     "data": {
      "image/png": "[encoded data removed]",
      "text/plain": [
       "<Figure size 640x480 with 2 Axes>"
      ]
     },
     "metadata": {},
     "output_type": "display_data"
    }
   ],
   "source": [
    "\"\"\"\n",
    "plot 220 mode versus spins\n",
    "\"\"\"\n",
    "\n",
    "fig, axs = plt.subplots(2, 1, sharex=True)\n",
    "\n",
    "axs[0].plot(a_range, qnm_range_GR[0], '-',     label=\"GR\")\n",
    "axs[0].plot(a_range, qnm_range_not_GR[0], '--', label=\"not GR\")\n",
    "axs[1].plot(a_range, qnm_range_not_GR[1], '-', label=\"GR\")\n",
    "axs[1].plot(a_range, qnm_range_GR[1], '--',     label=\"not GR\")\n",
    "\n",
    "axs[0].set_xlim(0,a_range[-1])\n",
    "axs[0].legend(loc=\"upper left\")\n",
    "axs[1].legend(loc=\"upper left\")\n",
    "axs[0].grid()\n",
    "axs[1].grid()\n",
    "axs[1].set_xlabel(\"spin $a$\")\n",
    "axs[0].set_ylabel(\"Re($\\omega_{220}$)\")\n",
    "axs[1].set_ylabel(\"Im($\\omega_{220}$)\")\n",
    "\n",
    "plt.show()"
   ]
  },
  {
   "cell_type": "markdown",
   "metadata": {},
   "source": [
    "### Initialize QNM class for Schwarzschild"
   ]
  },
  {
   "cell_type": "code",
   "execution_count": 7,
   "metadata": {
    "lines_to_next_cell": 2
   },
   "outputs": [
    {
     "name": "stdout",
     "output_type": "stream",
     "text": [
      "Nonrotating case.\n",
      "CPU times: user 1.77 ms, sys: 1.22 ms, total: 2.99 ms\n",
      "Wall time: 3 ms\n"
     ]
    }
   ],
   "source": [
    "%%time\n",
    "\"\"\"\n",
    "Initialize the QNM_class(). This will load the coefficients. \n",
    "In this example we load the scalar field at quadratic order.\n",
    "\"\"\"\n",
    "field_content = \"scalar\"\n",
    "order         = \"quadratic\"\n",
    "QNM = QNM_class()\n",
    "QNM.initialize(field_content, order)"
   ]
  },
  {
   "cell_type": "markdown",
   "metadata": {},
   "source": [
    "####  Example 1: compute QNMs"
   ]
  },
  {
   "cell_type": "code",
   "execution_count": 8,
   "metadata": {},
   "outputs": [
    {
     "name": "stdout",
     "output_type": "stream",
     "text": [
      "QNM =  [ 0.96728774 -0.19351755]\n"
     ]
    }
   ],
   "source": [
    "\"\"\"\n",
    "compute the l=2, m=2, n=0\n",
    "QNM for GR injcetion X_GR\n",
    "\"\"\"\n",
    "X_GR           = np.zeros(N_beta, dtype=complex)\n",
    "l_, m_, n_, a_ = 2, 2, 0, 0\n",
    "print(\"QNM = \", QNM.qnm(l_, m_, n_, a_, X_GR))"
   ]
  },
  {
   "cell_type": "markdown",
   "metadata": {},
   "source": [
    "####  Example 2: compare linear and quadratic computation"
   ]
  },
  {
   "cell_type": "code",
   "execution_count": 9,
   "metadata": {
    "lines_to_next_cell": 0
   },
   "outputs": [
    {
     "name": "stdout",
     "output_type": "stream",
     "text": [
      "QNM_linear=  [ 0.99020834 -0.17049627]\n",
      "QNM_quadratic =  [ 0.99021308 -0.17104152]\n"
     ]
    }
   ],
   "source": [
    "\"\"\"\n",
    "to access the linear or quadratic QNM prediction in the Schwarzschild case,\n",
    "one can call the following sub-functions directly, even for different field_content\n",
    "QNM.compute_qnm_lin(field_content, l_, n_, X_)\n",
    "QNM.compute_qnm_quad(field_content, l_, n_, X_)\n",
    "\n",
    "Here we look at a GR modifcation again.\n",
    "\"\"\"\n",
    "\n",
    "X_not_GR     = np.zeros(N_beta, dtype=complex)\n",
    "X_not_GR[2]  = 0.3*(1+1j)\n",
    "\n",
    "print(\"QNM_linear= \", QNM.compute_qnm_lin(field_content, l_, n_, X_not_GR))\n",
    "print(\"QNM_quadratic = \", QNM.compute_qnm_quad(field_content, l_, n_, X_not_GR))"
   ]
  },
  {
   "cell_type": "code",
   "execution_count": null,
   "metadata": {
    "lines_to_next_cell": 2
   },
   "outputs": [],
   "source": []
  }
 ],
 "metadata": {
  "jupytext": {
   "formats": "ipynb,py:light"
  },
  "kernelspec": {
   "display_name": "Python 3 (ipykernel)",
   "language": "python",
   "name": "python3"
  },
  "language_info": {
   "codemirror_mode": {
    "name": "ipython",
    "version": 3
   },
   "file_extension": ".py",
   "mimetype": "text/x-python",
   "name": "python",
   "nbconvert_exporter": "python",
   "pygments_lexer": "ipython3",
   "version": "3.10.13"
  }
 },
 "nbformat": 4,
 "nbformat_minor": 4
}
